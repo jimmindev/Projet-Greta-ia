{
 "cells": [
  {
   "cell_type": "code",
   "execution_count": 1,
   "id": "1838fedb-e2fb-4134-baaa-8cb3a78d0c29",
   "metadata": {
    "tags": []
   },
   "outputs": [],
   "source": [
    "import re\n",
    "\n",
    "pattern = r'\\d+'\n",
    "regex_object = re.compile(pattern)"
   ]
  },
  {
   "cell_type": "code",
   "execution_count": 2,
   "id": "f23adf84-294d-441c-acc8-2ffc2d926d72",
   "metadata": {
    "tags": []
   },
   "outputs": [
    {
     "name": "stdout",
     "output_type": "stream",
     "text": [
      "Pattern found: 100\n"
     ]
    }
   ],
   "source": [
    "text = 'There are 100 mangos and 456 bananas'\n",
    "match = regex_object.search(text)\n",
    "\n",
    "if match:\n",
    "    print('Pattern found:' , match.group())\n",
    "else:\n",
    "    print('pattern not found')"
   ]
  },
  {
   "cell_type": "code",
   "execution_count": 3,
   "id": "6dbceebc-8817-4729-a30a-ee1aa1558504",
   "metadata": {
    "tags": []
   },
   "outputs": [
    {
     "name": "stdout",
     "output_type": "stream",
     "text": [
      "Pattern found: 370A\n"
     ]
    }
   ],
   "source": [
    "pattern = r'\\d+.'\n",
    "regex_object = re.compile(pattern)\n",
    "\n",
    "text = 'this is my address: Apple Street no.370AB and my parents adress : banana Street no.11C '\n",
    "#match = regex_object.search(text)\n",
    "match = regex_object.search(text)\n",
    "if match:\n",
    "    print('Pattern found:' ,  match.group())\n",
    "else:\n",
    "    print('pattern not found')"
   ]
  },
  {
   "cell_type": "code",
   "execution_count": 5,
   "id": "19ec9d33-5025-49c3-8021-61ab4e19c07d",
   "metadata": {
    "tags": []
   },
   "outputs": [
    {
     "name": "stdout",
     "output_type": "stream",
     "text": [
      "Pattern found: ['alice@google.com', 'ice22@besancon-22abc.com']\n"
     ]
    }
   ],
   "source": [
    "pattern = r'\\w+@\\S+'\n",
    "regex_object = re.compile(pattern)\n",
    "\n",
    "text = 'This is my personal email alice@google.com and this is office email al.ice22@besancon-22abc.com'\n",
    "#match = regex_object.search(text)\n",
    "match = regex_object.findall(text)\n",
    "if match:\n",
    "    print('Pattern found:' ,  match)\n",
    "else:\n",
    "    print('pattern not found')"
   ]
  },
  {
   "cell_type": "code",
   "execution_count": 6,
   "id": "c33fcd62-bf1e-48fd-8441-c1c3090d75ac",
   "metadata": {
    "tags": []
   },
   "outputs": [
    {
     "name": "stdout",
     "output_type": "stream",
     "text": [
      "Pattern found: ['+234-123-456-7890', '+234 100 000 1000', '+234999999999']\n"
     ]
    }
   ],
   "source": [
    "pattern = r'\\+[0-9\\s\\-]+'   #+((?=\\d).{10,16})    ou  \\b\\d+[-.]?\\d+[-.]?\\d+\\b\n",
    "regex_object = re.compile(pattern)\n",
    "\n",
    "text = \"The following are the phone numbers of 3 students in a class Michael : +234-123-456-7890, James : +234 100 000 1000, Sarah : +234999999999\"\n",
    "#match = regex_object.search(text)\n",
    "match = regex_object.findall(text)\n",
    "if match:\n",
    "    print('Pattern found:' ,  match)\n",
    "else:\n",
    "    print('pattern not found')"
   ]
  }
 ],
 "metadata": {
  "kernelspec": {
   "display_name": "Python 3 (ipykernel)",
   "language": "python",
   "name": "python3"
  },
  "language_info": {
   "codemirror_mode": {
    "name": "ipython",
    "version": 3
   },
   "file_extension": ".py",
   "mimetype": "text/x-python",
   "name": "python",
   "nbconvert_exporter": "python",
   "pygments_lexer": "ipython3",
   "version": "3.11.7"
  }
 },
 "nbformat": 4,
 "nbformat_minor": 5
}

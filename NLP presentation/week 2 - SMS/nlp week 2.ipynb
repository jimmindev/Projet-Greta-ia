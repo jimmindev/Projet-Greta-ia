{
 "cells": [
  {
   "cell_type": "code",
   "execution_count": 1,
   "id": "46190158-d083-48e3-afe1-b22a131501be",
   "metadata": {
    "tags": []
   },
   "outputs": [],
   "source": [
    "import string\n",
    "import nltk\n",
    "import re\n",
    "\n",
    "\n",
    "text = \"AZERTqsdf , zaeif  ! 1 3 /:5 7 8 9 jizle AZE oj 15 ze MDF sk.;314?65op 16! !584 ekf . RF , .\""
   ]
  },
  {
   "cell_type": "code",
   "execution_count": 6,
   "id": "461041d2-f989-4922-901e-9b28d3e64c8f",
   "metadata": {
    "tags": []
   },
   "outputs": [
    {
     "name": "stdout",
     "output_type": "stream",
     "text": [
      "azertqsdf , zaeif  ! 1 3 /:5 7 8 9 jizle aze oj 15 ze mdf sk.;314?65op 16! !584 ekf . rf , .\n"
     ]
    }
   ],
   "source": [
    "def text_lowercase(text):\n",
    "    return text.lower()\n",
    "\n",
    "text = text_lowercase(text)\n",
    "print(text)"
   ]
  },
  {
   "cell_type": "code",
   "execution_count": 7,
   "id": "96c24ff3-1929-4289-aa7c-75d788c7dd6a",
   "metadata": {
    "tags": []
   },
   "outputs": [
    {
     "name": "stdout",
     "output_type": "stream",
     "text": [
      "azertqsdf , zaeif  !   /:    jizle aze oj  ze mdf sk.;?op ! ! ekf . rf , .\n"
     ]
    }
   ],
   "source": [
    "def remove_number(text):\n",
    "    result =  re.sub(r\"\\d+\" , '' , text )\n",
    "    return result\n",
    "\n",
    "text = remove_number(text)\n",
    "print(text)"
   ]
  },
  {
   "cell_type": "code",
   "execution_count": 8,
   "id": "2d96bbed-6677-4924-b09e-ba624bfaa5ca",
   "metadata": {
    "tags": []
   },
   "outputs": [
    {
     "name": "stdout",
     "output_type": "stream",
     "text": [
      "['!', '\"', '#', '$', '%', '&', \"'\", '(', ')', '*', '+', ',', '-', '.', '/', ':', ';', '<', '=', '>', '?', '@', '[', '\\\\', ']', '^', '_', '`', '{', '|', '}', '~']\n"
     ]
    }
   ],
   "source": [
    "regular_ponct = list(string.punctuation)\n",
    "print(regular_ponct)"
   ]
  },
  {
   "cell_type": "code",
   "execution_count": 9,
   "id": "0cb869b3-87e4-4b35-8556-4113ef565aa7",
   "metadata": {
    "tags": []
   },
   "outputs": [
    {
     "name": "stdout",
     "output_type": "stream",
     "text": [
      "azertqsdf  zaeif         jizle aze oj  ze mdf skop   ekf  rf  \n"
     ]
    }
   ],
   "source": [
    "def remove_ponctuation(text):\n",
    "    regular_ponct = list(string.punctuation)\n",
    "    for ponct in regular_ponct:\n",
    "        if ponct in text :\n",
    "            text = text.replace(ponct , '' )\n",
    "    return text\n",
    "\n",
    "text = remove_ponctuation(text)\n",
    "print(text)"
   ]
  },
  {
   "cell_type": "code",
   "execution_count": 13,
   "id": "9b4b99f6-2ce4-443f-8ac0-80ee9198f01b",
   "metadata": {
    "tags": []
   },
   "outputs": [
    {
     "name": "stdout",
     "output_type": "stream",
     "text": [
      "['azertqsdf', 'zaeif', 'jizle', 'aze', 'oj', 'ze', 'mdf', 'skop', 'ekf', 'rf']\n"
     ]
    }
   ],
   "source": [
    "def clean_space(text):\n",
    "    return text.split()\n",
    "\n",
    "text = clean_space(text)\n",
    "print(text)"
   ]
  },
  {
   "cell_type": "code",
   "execution_count": 10,
   "id": "073d7acb-2073-4745-bb3c-5fce0b811aaa",
   "metadata": {
    "tags": []
   },
   "outputs": [
    {
     "name": "stdout",
     "output_type": "stream",
     "text": [
      "you can visit \n"
     ]
    }
   ],
   "source": [
    "def clean_link(text):\n",
    "    url_pattern =  re.compile(r\"https?://\\S+\")\n",
    "    return url_pattern.sub('', text )\n",
    "\n",
    "text = \"you can visit https://drive.google.com/drive/folders/1Ht4e1WTyIt-ZFo3ysNkuAHUC2k3GNpQ0\"\n",
    "text = clean_link(text)\n",
    "print(text)"
   ]
  },
  {
   "cell_type": "code",
   "execution_count": 11,
   "id": "0376d1c5-0b36-44df-b4ac-03c39486a4e4",
   "metadata": {
    "tags": []
   },
   "outputs": [
    {
     "name": "stderr",
     "output_type": "stream",
     "text": [
      "[nltk_data] Downloading package punkt to\n",
      "[nltk_data]     C:\\Users\\kojim\\AppData\\Roaming\\nltk_data...\n",
      "[nltk_data]   Unzipping tokenizers\\punkt.zip.\n"
     ]
    },
    {
     "name": "stdout",
     "output_type": "stream",
     "text": [
      "result  ['this', 'is', 'a', 'text', 'to', 'tokenize']\n"
     ]
    }
   ],
   "source": [
    "nltk.download(\"punkt\")\n",
    "\n",
    "text = \"this is a text to tokenize\" \n",
    "tokenized = nltk.word_tokenize(text)\n",
    "\n",
    "print(\"result \" , tokenized)"
   ]
  },
  {
   "cell_type": "code",
   "execution_count": 13,
   "id": "882c3082-a197-444e-aee6-ebaca3e3cbfd",
   "metadata": {
    "tags": []
   },
   "outputs": [
    {
     "name": "stderr",
     "output_type": "stream",
     "text": [
      "[nltk_data] Downloading package stopwords to\n",
      "[nltk_data]     C:\\Users\\kojim\\AppData\\Roaming\\nltk_data...\n"
     ]
    },
    {
     "name": "stdout",
     "output_type": "stream",
     "text": [
      "{'your', 'other', 'on', \"wouldn't\", \"you'd\", 'is', 'was', 'their', 'down', 'very', 'themselves', \"isn't\", 'theirs', 'no', 'over', 'not', 'into', 'haven', 'this', 'nor', \"mustn't\", 'am', 'just', 'about', 'what', 'didn', 'but', 'so', 'after', 'such', 'having', 'they', 'while', 'during', 'aren', \"weren't\", 'if', 'because', 'her', 'i', 'o', 'that', 'all', 'itself', 'mawwwwwwwwwwwwwwwwwwwwwwwwwwwwwwwwwwwwwwwwwwwwwwwwwwwwwwwwwwwwwwwwi', 'we', 're', \"wasn't\", 'hadn', 'who', 'now', 'those', 'been', 't', 'through', \"doesn't\", 'as', 'have', 'doing', 'wasn', \"needn't\", \"shan't\", 'most', 'here', 'be', \"you're\", 'against', 'his', 'there', 'why', 'again', 'where', 'had', 'hasn', \"hasn't\", 'can', \"hadn't\", 'only', 'needn', 'are', 'yours', 'or', 'own', 'were', 'won', \"didn't\", 'being', 'for', 'each', 'd', 'until', 'has', 'should', 'too', 'with', 'both', 'y', 'ma', 'of', 'which', 'than', 'then', 'a', 'isn', 'does', \"shouldn't\", 'hers', 'by', 'an', 'above', 've', 'the', 'some', 'couldn', 'under', 'it', 'do', \"should've\", 'myself', 'more', 'few', 'will', 'from', 'to', 'he', 'below', 's', 'before', 'whom', 'our', 'how', 'mustn', 'mightn', 'ourselves', \"it's\", 'll', 'herself', 'off', \"couldn't\", \"you've\", 'shouldn', 'she', 'once', 'me', 'you', 'yourselves', 'did', 'up', \"haven't\", 'when', 'same', 'm', 'ain', 'doesn', 'wouldn', 'weren', 'out', \"you'll\", \"she's\", 'these', 'him', 'himself', 'them', \"that'll\", 'at', 'shan', 'further', \"mightn't\", 'between', 'yourself', 'my', 'and', 'any', 'its', \"aren't\", 'ours', \"don't\", 'don', 'in', \"won't\"}\n",
      "\n",
      "{'your', 'other', 'on', \"wouldn't\", \"you'd\", 'is', 'was', 'their', 'down', 'very', 'themselves', \"isn't\", 'theirs', 'no', 'over', 'not', 'into', 'haven', 'this', 'nor', \"mustn't\", 'am', 'just', 'about', 'what', 'didn', 'but', 'so', 'after', 'such', 'having', 'they', 'while', 'during', 'aren', \"weren't\", 'if', 'because', 'her', 'i', 'o', 'that', 'all', 'itself', 'we', 're', \"wasn't\", 'hadn', 'who', 'now', 'those', 'been', 't', 'through', \"doesn't\", 'as', 'have', 'doing', 'wasn', \"needn't\", \"shan't\", 'most', 'here', 'be', \"you're\", 'against', 'his', 'there', 'why', 'again', 'where', 'had', 'hasn', \"hasn't\", 'can', \"hadn't\", 'only', 'needn', 'are', 'yours', 'or', 'own', 'were', 'won', \"didn't\", 'being', 'for', 'each', 'd', 'until', 'has', 'should', 'too', 'with', 'both', 'y', 'ma', 'of', 'which', 'than', 'then', 'a', 'isn', 'does', \"shouldn't\", 'hers', 'by', 'an', 'above', 've', 'the', 'some', 'couldn', 'under', 'it', 'do', \"should've\", 'myself', 'more', 'few', 'will', 'from', 'to', 'he', 'below', 's', 'before', 'whom', 'our', 'how', 'mustn', 'mightn', 'ourselves', \"it's\", 'll', 'herself', 'off', \"couldn't\", \"you've\", 'shouldn', 'she', 'once', 'me', 'you', 'yourselves', 'did', 'up', \"haven't\", 'when', 'same', 'm', 'ain', 'doesn', 'wouldn', 'weren', 'out', \"you'll\", \"she's\", 'these', 'him', 'himself', 'them', \"that'll\", 'at', 'shan', 'further', \"mightn't\", 'between', 'yourself', 'my', 'and', 'any', 'its', \"aren't\", 'ours', \"don't\", 'don', 'in', \"won't\"}\n"
     ]
    },
    {
     "name": "stderr",
     "output_type": "stream",
     "text": [
      "[nltk_data]   Unzipping corpora\\stopwords.zip.\n"
     ]
    }
   ],
   "source": [
    "from nltk.corpus import stopwords\n",
    "nltk.download(\"stopwords\")\n",
    "\n",
    "stop_words = set(stopwords.words('english'))\n",
    "stop_words.add(\"mawwwwwwwwwwwwwwwwwwwwwwwwwwwwwwwwwwwwwwwwwwwwwwwwwwwwwwwwwwwwwwwwi\")\n",
    "print(stop_words)\n",
    "\n",
    "print(\"\")\n",
    "stop_words.remove(\"mawwwwwwwwwwwwwwwwwwwwwwwwwwwwwwwwwwwwwwwwwwwwwwwwwwwwwwwwwwwwwwwwi\")\n",
    "print(stop_words)\n"
   ]
  },
  {
   "cell_type": "code",
   "execution_count": 15,
   "id": "4ef941c1-4551-4d1f-a32f-f21aac301dc7",
   "metadata": {
    "tags": []
   },
   "outputs": [
    {
     "name": "stdout",
     "output_type": "stream",
     "text": [
      "avant remove stopwords this is a sample sentence and we are going to remove the stopwords from this.\n",
      "après remove stopwords ['sample', 'sentence', 'going', 'remove', 'stopwords', '.']\n"
     ]
    }
   ],
   "source": [
    "from nltk.corpus import stopwords\n",
    "#nltk.download(\"stopwords\")\n",
    "\n",
    "def remove_stopwords(text):\n",
    "    stop_words = set(stopwords.words(\"english\"))\n",
    "    word_token = nltk.word_tokenize(text)\n",
    "    \n",
    "    filter_text = [word for word in word_token if word.lower() not in stop_words]\n",
    "    return filter_text\n",
    "\n",
    "def remove_stopwords_from_list(liste):\n",
    "    stop_words = set(stopwords.words(\"english\"))\n",
    "    word_token = liste\n",
    "    \n",
    "    filter_text = [word for word in word_token if word.lower() not in stop_words]\n",
    "    return filter_text\n",
    "\n",
    "exemple_text = \"this is a sample sentence and we are going to remove the stopwords from this.\"\n",
    "print(\"avant remove stopwords\" , exemple_text )\n",
    "print(\"après remove stopwords\" , remove_stopwords(exemple_text) )\n"
   ]
  },
  {
   "cell_type": "code",
   "execution_count": 17,
   "id": "5de0b696-5b54-44a9-bbc0-f60424d7bb06",
   "metadata": {
    "tags": []
   },
   "outputs": [
    {
     "name": "stdout",
     "output_type": "stream",
     "text": [
      "['data', 'scienc', 'use', 'scientif', 'method', 'algorithm', 'an', 'mani', 'type', 'of', 'proccess']\n"
     ]
    }
   ],
   "source": [
    "from nltk.stem.porter import PorterStemmer\n",
    "from nltk.tokenize import word_tokenize\n",
    "stemmer = PorterStemmer()\n",
    "\n",
    "\n",
    "def stem_words(text):\n",
    "    word_tokens = word_tokenize(text)\n",
    "    stems = [stemmer.stem(word) for word in word_tokens]\n",
    "    return stems\n",
    "\n",
    "def stem_words_from_list(liste):\n",
    "    word_tokens = liste\n",
    "    stems = [stemmer.stem(word) for word in word_tokens]\n",
    "    return stems\n",
    "\n",
    "text = \"data science uses scientific methods algorithms ans many types of proccesses\"\n",
    "text = stem_words(text)\n",
    "print(text)"
   ]
  },
  {
   "cell_type": "code",
   "execution_count": 19,
   "id": "180c82f8-f485-49f0-b34e-7f64ed2bcdc7",
   "metadata": {
    "tags": []
   },
   "outputs": [
    {
     "name": "stdout",
     "output_type": "stream",
     "text": [
      "['data', 'science', 'going', 'scientific', 'method', 'algorithm', 'an', 'many', 'type', 'of', 'proccesses']\n"
     ]
    },
    {
     "name": "stderr",
     "output_type": "stream",
     "text": [
      "[nltk_data] Downloading package punkt to\n",
      "[nltk_data]     C:\\Users\\kojim\\AppData\\Roaming\\nltk_data...\n",
      "[nltk_data]   Package punkt is already up-to-date!\n",
      "[nltk_data] Downloading package wordnet to\n",
      "[nltk_data]     C:\\Users\\kojim\\AppData\\Roaming\\nltk_data...\n",
      "[nltk_data]   Package wordnet is already up-to-date!\n"
     ]
    }
   ],
   "source": [
    "from nltk.stem import WordNetLemmatizer\n",
    "\n",
    "nltk.download(\"punkt\")\n",
    "nltk.download(\"wordnet\")\n",
    "\n",
    "lemmatizer = WordNetLemmatizer()\n",
    "\n",
    "def lema_words(text):\n",
    "    word_tokens = word_tokenize(text)\n",
    "    lemas = [lemmatizer.lemmatize(word) for word in word_tokens]\n",
    "    return lemas\n",
    "\n",
    "def lema_words_from_list(liste):\n",
    "    word_tokens = liste\n",
    "    lemas = [lemmatizer.lemmatize(word) for word in word_tokens]\n",
    "    return lemas\n",
    "\n",
    "\n",
    "text = \"data science going scientific methods algorithms ans many types of proccesses\"\n",
    "text = lema_words(text)\n",
    "print(text)"
   ]
  },
  {
   "cell_type": "code",
   "execution_count": 22,
   "id": "4a3b4ec3-9fd4-4976-8cda-8f1149ea879a",
   "metadata": {
    "tags": []
   },
   "outputs": [
    {
     "data": {
      "text/html": [
       "<div>\n",
       "<style scoped>\n",
       "    .dataframe tbody tr th:only-of-type {\n",
       "        vertical-align: middle;\n",
       "    }\n",
       "\n",
       "    .dataframe tbody tr th {\n",
       "        vertical-align: top;\n",
       "    }\n",
       "\n",
       "    .dataframe thead th {\n",
       "        text-align: right;\n",
       "    }\n",
       "</style>\n",
       "<table border=\"1\" class=\"dataframe\">\n",
       "  <thead>\n",
       "    <tr style=\"text-align: right;\">\n",
       "      <th></th>\n",
       "      <th>S. No.</th>\n",
       "      <th>Message_body</th>\n",
       "      <th>Label</th>\n",
       "      <th>Case Normalization</th>\n",
       "      <th>Noise Removal</th>\n",
       "      <th>Tokenization</th>\n",
       "      <th>Stopwords</th>\n",
       "      <th>Stemming</th>\n",
       "      <th>Lemmatization</th>\n",
       "    </tr>\n",
       "  </thead>\n",
       "  <tbody>\n",
       "    <tr>\n",
       "      <th>0</th>\n",
       "      <td>1</td>\n",
       "      <td>UpgrdCentre Orange customer, you may now claim your FREE CAMERA PHONE upgrade for your loyalty. Call now on 0207 153 9153. Offer ends 26th July. T&amp;C's apply. Opt-out available</td>\n",
       "      <td>Spam</td>\n",
       "      <td>upgrdcentre orange customer, you may now claim your free camera phone upgrade for your loyalty. call now on 0207 153 9153. offer ends 26th july. t&amp;c's apply. opt-out available</td>\n",
       "      <td>upgrdcentre orange customer you may now claim your free camera phone upgrade for your loyalty call now on    offer ends th july tcs apply optout available</td>\n",
       "      <td>[upgrdcentre, orange, customer, you, may, now, claim, your, free, camera, phone, upgrade, for, your, loyalty, call, now, on, offer, ends, th, july, tcs, apply, optout, available]</td>\n",
       "      <td>[upgrdcentre, orange, customer, you, may, now, claim, your, free, camera, phone, upgrade, for, your, loyalty, call, now, on, offer, ends, th, july, tcs, apply, optout, available]</td>\n",
       "      <td>[upgrdcentr, orang, custom, may, claim, free, camera, phone, upgrad, loyalti, call, offer, end, th, juli, tc, appli, optout, avail]</td>\n",
       "      <td>[upgrdcentre, orange, customer, may, claim, free, camera, phone, upgrade, loyalty, call, offer, end, th, july, tc, apply, optout, available]</td>\n",
       "    </tr>\n",
       "    <tr>\n",
       "      <th>1</th>\n",
       "      <td>2</td>\n",
       "      <td>Loan for any purpose £500 - £75,000. Homeowners + Tenants welcome. Have you been previously refused? We can still help. Call Free 0800 1956669 or text back 'help'</td>\n",
       "      <td>Spam</td>\n",
       "      <td>loan for any purpose £500 - £75,000. homeowners + tenants welcome. have you been previously refused? we can still help. call free 0800 1956669 or text back 'help'</td>\n",
       "      <td>loan for any purpose £  £ homeowners  tenants welcome have you been previously refused we can still help call free   or text back help</td>\n",
       "      <td>[loan, for, any, purpose, £, £, homeowners, tenants, welcome, have, you, been, previously, refused, we, can, still, help, call, free, or, text, back, help]</td>\n",
       "      <td>[loan, for, any, purpose, £, £, homeowners, tenants, welcome, have, you, been, previously, refused, we, can, still, help, call, free, or, text, back, help]</td>\n",
       "      <td>[loan, purpos, £, £, homeown, tenant, welcom, previous, refus, still, help, call, free, text, back, help]</td>\n",
       "      <td>[loan, purpose, £, £, homeowner, tenant, welcome, previously, refused, still, help, call, free, text, back, help]</td>\n",
       "    </tr>\n",
       "    <tr>\n",
       "      <th>2</th>\n",
       "      <td>3</td>\n",
       "      <td>Congrats! Nokia 3650 video camera phone is your Call 09066382422 Calls cost 150ppm Ave call 3mins vary from mobiles 16+ Close 300603 post BCM4284 Ldn WC1N3XX</td>\n",
       "      <td>Spam</td>\n",
       "      <td>congrats! nokia 3650 video camera phone is your call 09066382422 calls cost 150ppm ave call 3mins vary from mobiles 16+ close 300603 post bcm4284 ldn wc1n3xx</td>\n",
       "      <td>congrats nokia  video camera phone is your call  calls cost ppm ave call mins vary from mobiles  close  post bcm ldn wcnxx</td>\n",
       "      <td>[congrats, nokia, video, camera, phone, is, your, call, calls, cost, ppm, ave, call, mins, vary, from, mobiles, close, post, bcm, ldn, wcnxx]</td>\n",
       "      <td>[congrats, nokia, video, camera, phone, is, your, call, calls, cost, ppm, ave, call, mins, vary, from, mobiles, close, post, bcm, ldn, wcnxx]</td>\n",
       "      <td>[congrat, nokia, video, camera, phone, call, call, cost, ppm, ave, call, min, vari, mobil, close, post, bcm, ldn, wcnxx]</td>\n",
       "      <td>[congrats, nokia, video, camera, phone, call, call, cost, ppm, ave, call, min, vary, mobile, close, post, bcm, ldn, wcnxx]</td>\n",
       "    </tr>\n",
       "    <tr>\n",
       "      <th>3</th>\n",
       "      <td>4</td>\n",
       "      <td>URGENT! Your Mobile number has been awarded with a £2000 prize GUARANTEED. Call 09058094455 from land line. Claim 3030. Valid 12hrs only</td>\n",
       "      <td>Spam</td>\n",
       "      <td>urgent! your mobile number has been awarded with a £2000 prize guaranteed. call 09058094455 from land line. claim 3030. valid 12hrs only</td>\n",
       "      <td>urgent your mobile number has been awarded with a £ prize guaranteed call  from land line claim  valid hrs only</td>\n",
       "      <td>[urgent, your, mobile, number, has, been, awarded, with, a, £, prize, guaranteed, call, from, land, line, claim, valid, hrs, only]</td>\n",
       "      <td>[urgent, your, mobile, number, has, been, awarded, with, a, £, prize, guaranteed, call, from, land, line, claim, valid, hrs, only]</td>\n",
       "      <td>[urgent, mobil, number, award, £, prize, guarante, call, land, line, claim, valid, hr]</td>\n",
       "      <td>[urgent, mobile, number, awarded, £, prize, guaranteed, call, land, line, claim, valid, hr]</td>\n",
       "    </tr>\n",
       "    <tr>\n",
       "      <th>4</th>\n",
       "      <td>5</td>\n",
       "      <td>Someone has contacted our dating service and entered your phone because they fancy you! To find out who it is call from a landline 09111032124 . PoBox12n146tf150p</td>\n",
       "      <td>Spam</td>\n",
       "      <td>someone has contacted our dating service and entered your phone because they fancy you! to find out who it is call from a landline 09111032124 . pobox12n146tf150p</td>\n",
       "      <td>someone has contacted our dating service and entered your phone because they fancy you to find out who it is call from a landline   poboxntfp</td>\n",
       "      <td>[someone, has, contacted, our, dating, service, and, entered, your, phone, because, they, fancy, you, to, find, out, who, it, is, call, from, a, landline, poboxntfp]</td>\n",
       "      <td>[someone, has, contacted, our, dating, service, and, entered, your, phone, because, they, fancy, you, to, find, out, who, it, is, call, from, a, landline, poboxntfp]</td>\n",
       "      <td>[someon, contact, date, servic, enter, phone, fanci, find, call, landlin, poboxntfp]</td>\n",
       "      <td>[someone, contacted, dating, service, entered, phone, fancy, find, call, landline, poboxntfp]</td>\n",
       "    </tr>\n",
       "    <tr>\n",
       "      <th>...</th>\n",
       "      <td>...</td>\n",
       "      <td>...</td>\n",
       "      <td>...</td>\n",
       "      <td>...</td>\n",
       "      <td>...</td>\n",
       "      <td>...</td>\n",
       "      <td>...</td>\n",
       "      <td>...</td>\n",
       "      <td>...</td>\n",
       "    </tr>\n",
       "    <tr>\n",
       "      <th>120</th>\n",
       "      <td>121</td>\n",
       "      <td>7 wonders in My WORLD 7th You 6th Ur style 5th Ur smile 4th Ur Personality 3rd Ur Nature 2nd Ur SMS and 1st \"Ur Lovely Friendship\"... good morning dear</td>\n",
       "      <td>Non-Spam</td>\n",
       "      <td>7 wonders in my world 7th you 6th ur style 5th ur smile 4th ur personality 3rd ur nature 2nd ur sms and 1st \"ur lovely friendship\"... good morning dear</td>\n",
       "      <td>wonders in my world th you th ur style th ur smile th ur personality rd ur nature nd ur sms and st ur lovely friendship good morning dear</td>\n",
       "      <td>[wonders, in, my, world, th, you, th, ur, style, th, ur, smile, th, ur, personality, rd, ur, nature, nd, ur, sms, and, st, ur, lovely, friendship, good, morning, dear]</td>\n",
       "      <td>[wonders, in, my, world, th, you, th, ur, style, th, ur, smile, th, ur, personality, rd, ur, nature, nd, ur, sms, and, st, ur, lovely, friendship, good, morning, dear]</td>\n",
       "      <td>[wonder, world, th, th, ur, style, th, ur, smile, th, ur, person, rd, ur, natur, nd, ur, sm, st, ur, love, friendship, good, morn, dear]</td>\n",
       "      <td>[wonder, world, th, th, ur, style, th, ur, smile, th, ur, personality, rd, ur, nature, nd, ur, sm, st, ur, lovely, friendship, good, morning, dear]</td>\n",
       "    </tr>\n",
       "    <tr>\n",
       "      <th>121</th>\n",
       "      <td>122</td>\n",
       "      <td>Try to do something dear. You read something for exams</td>\n",
       "      <td>Non-Spam</td>\n",
       "      <td>try to do something dear. you read something for exams</td>\n",
       "      <td>try to do something dear you read something for exams</td>\n",
       "      <td>[try, to, do, something, dear, you, read, something, for, exams]</td>\n",
       "      <td>[try, to, do, something, dear, you, read, something, for, exams]</td>\n",
       "      <td>[tri, someth, dear, read, someth, exam]</td>\n",
       "      <td>[try, something, dear, read, something, exam]</td>\n",
       "    </tr>\n",
       "    <tr>\n",
       "      <th>122</th>\n",
       "      <td>123</td>\n",
       "      <td>Sun ah... Thk mayb can if dun have anythin on... Thk have to book e lesson... E pilates is at orchard mrt u noe hor...</td>\n",
       "      <td>Non-Spam</td>\n",
       "      <td>sun ah... thk mayb can if dun have anythin on... thk have to book e lesson... e pilates is at orchard mrt u noe hor...</td>\n",
       "      <td>sun ah thk mayb can if dun have anythin on thk have to book e lesson e pilates is at orchard mrt u noe hor</td>\n",
       "      <td>[sun, ah, thk, mayb, can, if, dun, have, anythin, on, thk, have, to, book, e, lesson, e, pilates, is, at, orchard, mrt, u, noe, hor]</td>\n",
       "      <td>[sun, ah, thk, mayb, can, if, dun, have, anythin, on, thk, have, to, book, e, lesson, e, pilates, is, at, orchard, mrt, u, noe, hor]</td>\n",
       "      <td>[sun, ah, thk, mayb, dun, anythin, thk, book, e, lesson, e, pilat, orchard, mrt, u, noe, hor]</td>\n",
       "      <td>[sun, ah, thk, mayb, dun, anythin, thk, book, e, lesson, e, pilate, orchard, mrt, u, noe, hor]</td>\n",
       "    </tr>\n",
       "    <tr>\n",
       "      <th>123</th>\n",
       "      <td>124</td>\n",
       "      <td>SYMPTOMS when U are in love: \"1.U like listening songs 2.U get stopped where u see the name of your beloved 3.U won't get angry when your</td>\n",
       "      <td>Non-Spam</td>\n",
       "      <td>symptoms when u are in love: \"1.u like listening songs 2.u get stopped where u see the name of your beloved 3.u won't get angry when your</td>\n",
       "      <td>symptoms when u are in love u like listening songs u get stopped where u see the name of your beloved u wont get angry when your</td>\n",
       "      <td>[symptoms, when, u, are, in, love, u, like, listening, songs, u, get, stopped, where, u, see, the, name, of, your, beloved, u, wont, get, angry, when, your]</td>\n",
       "      <td>[symptoms, when, u, are, in, love, u, like, listening, songs, u, get, stopped, where, u, see, the, name, of, your, beloved, u, wont, get, angry, when, your]</td>\n",
       "      <td>[symptom, u, love, u, like, listen, song, u, get, stop, u, see, name, belov, u, wont, get, angri]</td>\n",
       "      <td>[symptom, u, love, u, like, listening, song, u, get, stopped, u, see, name, beloved, u, wont, get, angry]</td>\n",
       "    </tr>\n",
       "    <tr>\n",
       "      <th>124</th>\n",
       "      <td>125</td>\n",
       "      <td>Great. Have a safe trip. Dont panic surrender all.</td>\n",
       "      <td>Non-Spam</td>\n",
       "      <td>great. have a safe trip. dont panic surrender all.</td>\n",
       "      <td>great have a safe trip dont panic surrender all</td>\n",
       "      <td>[great, have, a, safe, trip, dont, panic, surrender, all]</td>\n",
       "      <td>[great, have, a, safe, trip, dont, panic, surrender, all]</td>\n",
       "      <td>[great, safe, trip, dont, panic, surrend]</td>\n",
       "      <td>[great, safe, trip, dont, panic, surrender]</td>\n",
       "    </tr>\n",
       "  </tbody>\n",
       "</table>\n",
       "<p>125 rows × 9 columns</p>\n",
       "</div>"
      ],
      "text/plain": [
       "     S. No.  \\\n",
       "0         1   \n",
       "1         2   \n",
       "2         3   \n",
       "3         4   \n",
       "4         5   \n",
       "..      ...   \n",
       "120     121   \n",
       "121     122   \n",
       "122     123   \n",
       "123     124   \n",
       "124     125   \n",
       "\n",
       "                                                                                                                                                                        Message_body  \\\n",
       "0    UpgrdCentre Orange customer, you may now claim your FREE CAMERA PHONE upgrade for your loyalty. Call now on 0207 153 9153. Offer ends 26th July. T&C's apply. Opt-out available   \n",
       "1                 Loan for any purpose £500 - £75,000. Homeowners + Tenants welcome. Have you been previously refused? We can still help. Call Free 0800 1956669 or text back 'help'   \n",
       "2                      Congrats! Nokia 3650 video camera phone is your Call 09066382422 Calls cost 150ppm Ave call 3mins vary from mobiles 16+ Close 300603 post BCM4284 Ldn WC1N3XX   \n",
       "3                                           URGENT! Your Mobile number has been awarded with a £2000 prize GUARANTEED. Call 09058094455 from land line. Claim 3030. Valid 12hrs only   \n",
       "4                 Someone has contacted our dating service and entered your phone because they fancy you! To find out who it is call from a landline 09111032124 . PoBox12n146tf150p   \n",
       "..                                                                                                                                                                               ...   \n",
       "120                          7 wonders in My WORLD 7th You 6th Ur style 5th Ur smile 4th Ur Personality 3rd Ur Nature 2nd Ur SMS and 1st \"Ur Lovely Friendship\"... good morning dear   \n",
       "121                                                                                                                           Try to do something dear. You read something for exams   \n",
       "122                                                         Sun ah... Thk mayb can if dun have anythin on... Thk have to book e lesson... E pilates is at orchard mrt u noe hor...     \n",
       "123                                        SYMPTOMS when U are in love: \"1.U like listening songs 2.U get stopped where u see the name of your beloved 3.U won't get angry when your   \n",
       "124                                                                                                                               Great. Have a safe trip. Dont panic surrender all.   \n",
       "\n",
       "        Label  \\\n",
       "0        Spam   \n",
       "1        Spam   \n",
       "2        Spam   \n",
       "3        Spam   \n",
       "4        Spam   \n",
       "..        ...   \n",
       "120  Non-Spam   \n",
       "121  Non-Spam   \n",
       "122  Non-Spam   \n",
       "123  Non-Spam   \n",
       "124  Non-Spam   \n",
       "\n",
       "                                                                                                                                                                  Case Normalization  \\\n",
       "0    upgrdcentre orange customer, you may now claim your free camera phone upgrade for your loyalty. call now on 0207 153 9153. offer ends 26th july. t&c's apply. opt-out available   \n",
       "1                 loan for any purpose £500 - £75,000. homeowners + tenants welcome. have you been previously refused? we can still help. call free 0800 1956669 or text back 'help'   \n",
       "2                      congrats! nokia 3650 video camera phone is your call 09066382422 calls cost 150ppm ave call 3mins vary from mobiles 16+ close 300603 post bcm4284 ldn wc1n3xx   \n",
       "3                                           urgent! your mobile number has been awarded with a £2000 prize guaranteed. call 09058094455 from land line. claim 3030. valid 12hrs only   \n",
       "4                 someone has contacted our dating service and entered your phone because they fancy you! to find out who it is call from a landline 09111032124 . pobox12n146tf150p   \n",
       "..                                                                                                                                                                               ...   \n",
       "120                          7 wonders in my world 7th you 6th ur style 5th ur smile 4th ur personality 3rd ur nature 2nd ur sms and 1st \"ur lovely friendship\"... good morning dear   \n",
       "121                                                                                                                           try to do something dear. you read something for exams   \n",
       "122                                                         sun ah... thk mayb can if dun have anythin on... thk have to book e lesson... e pilates is at orchard mrt u noe hor...     \n",
       "123                                        symptoms when u are in love: \"1.u like listening songs 2.u get stopped where u see the name of your beloved 3.u won't get angry when your   \n",
       "124                                                                                                                               great. have a safe trip. dont panic surrender all.   \n",
       "\n",
       "                                                                                                                                                  Noise Removal  \\\n",
       "0    upgrdcentre orange customer you may now claim your free camera phone upgrade for your loyalty call now on    offer ends th july tcs apply optout available   \n",
       "1                        loan for any purpose £  £ homeowners  tenants welcome have you been previously refused we can still help call free   or text back help   \n",
       "2                                    congrats nokia  video camera phone is your call  calls cost ppm ave call mins vary from mobiles  close  post bcm ldn wcnxx   \n",
       "3                                               urgent your mobile number has been awarded with a £ prize guaranteed call  from land line claim  valid hrs only   \n",
       "4                 someone has contacted our dating service and entered your phone because they fancy you to find out who it is call from a landline   poboxntfp   \n",
       "..                                                                                                                                                          ...   \n",
       "120                   wonders in my world th you th ur style th ur smile th ur personality rd ur nature nd ur sms and st ur lovely friendship good morning dear   \n",
       "121                                                                                                       try to do something dear you read something for exams   \n",
       "122                                                sun ah thk mayb can if dun have anythin on thk have to book e lesson e pilates is at orchard mrt u noe hor     \n",
       "123                            symptoms when u are in love u like listening songs u get stopped where u see the name of your beloved u wont get angry when your   \n",
       "124                                                                                                             great have a safe trip dont panic surrender all   \n",
       "\n",
       "                                                                                                                                                                           Tokenization  \\\n",
       "0    [upgrdcentre, orange, customer, you, may, now, claim, your, free, camera, phone, upgrade, for, your, loyalty, call, now, on, offer, ends, th, july, tcs, apply, optout, available]   \n",
       "1                           [loan, for, any, purpose, £, £, homeowners, tenants, welcome, have, you, been, previously, refused, we, can, still, help, call, free, or, text, back, help]   \n",
       "2                                         [congrats, nokia, video, camera, phone, is, your, call, calls, cost, ppm, ave, call, mins, vary, from, mobiles, close, post, bcm, ldn, wcnxx]   \n",
       "3                                                    [urgent, your, mobile, number, has, been, awarded, with, a, £, prize, guaranteed, call, from, land, line, claim, valid, hrs, only]   \n",
       "4                 [someone, has, contacted, our, dating, service, and, entered, your, phone, because, they, fancy, you, to, find, out, who, it, is, call, from, a, landline, poboxntfp]   \n",
       "..                                                                                                                                                                                  ...   \n",
       "120             [wonders, in, my, world, th, you, th, ur, style, th, ur, smile, th, ur, personality, rd, ur, nature, nd, ur, sms, and, st, ur, lovely, friendship, good, morning, dear]   \n",
       "121                                                                                                                    [try, to, do, something, dear, you, read, something, for, exams]   \n",
       "122                                                [sun, ah, thk, mayb, can, if, dun, have, anythin, on, thk, have, to, book, e, lesson, e, pilates, is, at, orchard, mrt, u, noe, hor]   \n",
       "123                        [symptoms, when, u, are, in, love, u, like, listening, songs, u, get, stopped, where, u, see, the, name, of, your, beloved, u, wont, get, angry, when, your]   \n",
       "124                                                                                                                           [great, have, a, safe, trip, dont, panic, surrender, all]   \n",
       "\n",
       "                                                                                                                                                                              Stopwords  \\\n",
       "0    [upgrdcentre, orange, customer, you, may, now, claim, your, free, camera, phone, upgrade, for, your, loyalty, call, now, on, offer, ends, th, july, tcs, apply, optout, available]   \n",
       "1                           [loan, for, any, purpose, £, £, homeowners, tenants, welcome, have, you, been, previously, refused, we, can, still, help, call, free, or, text, back, help]   \n",
       "2                                         [congrats, nokia, video, camera, phone, is, your, call, calls, cost, ppm, ave, call, mins, vary, from, mobiles, close, post, bcm, ldn, wcnxx]   \n",
       "3                                                    [urgent, your, mobile, number, has, been, awarded, with, a, £, prize, guaranteed, call, from, land, line, claim, valid, hrs, only]   \n",
       "4                 [someone, has, contacted, our, dating, service, and, entered, your, phone, because, they, fancy, you, to, find, out, who, it, is, call, from, a, landline, poboxntfp]   \n",
       "..                                                                                                                                                                                  ...   \n",
       "120             [wonders, in, my, world, th, you, th, ur, style, th, ur, smile, th, ur, personality, rd, ur, nature, nd, ur, sms, and, st, ur, lovely, friendship, good, morning, dear]   \n",
       "121                                                                                                                    [try, to, do, something, dear, you, read, something, for, exams]   \n",
       "122                                                [sun, ah, thk, mayb, can, if, dun, have, anythin, on, thk, have, to, book, e, lesson, e, pilates, is, at, orchard, mrt, u, noe, hor]   \n",
       "123                        [symptoms, when, u, are, in, love, u, like, listening, songs, u, get, stopped, where, u, see, the, name, of, your, beloved, u, wont, get, angry, when, your]   \n",
       "124                                                                                                                           [great, have, a, safe, trip, dont, panic, surrender, all]   \n",
       "\n",
       "                                                                                                                                     Stemming  \\\n",
       "0         [upgrdcentr, orang, custom, may, claim, free, camera, phone, upgrad, loyalti, call, offer, end, th, juli, tc, appli, optout, avail]   \n",
       "1                                   [loan, purpos, £, £, homeown, tenant, welcom, previous, refus, still, help, call, free, text, back, help]   \n",
       "2                    [congrat, nokia, video, camera, phone, call, call, cost, ppm, ave, call, min, vari, mobil, close, post, bcm, ldn, wcnxx]   \n",
       "3                                                      [urgent, mobil, number, award, £, prize, guarante, call, land, line, claim, valid, hr]   \n",
       "4                                                        [someon, contact, date, servic, enter, phone, fanci, find, call, landlin, poboxntfp]   \n",
       "..                                                                                                                                        ...   \n",
       "120  [wonder, world, th, th, ur, style, th, ur, smile, th, ur, person, rd, ur, natur, nd, ur, sm, st, ur, love, friendship, good, morn, dear]   \n",
       "121                                                                                                   [tri, someth, dear, read, someth, exam]   \n",
       "122                                             [sun, ah, thk, mayb, dun, anythin, thk, book, e, lesson, e, pilat, orchard, mrt, u, noe, hor]   \n",
       "123                                         [symptom, u, love, u, like, listen, song, u, get, stop, u, see, name, belov, u, wont, get, angri]   \n",
       "124                                                                                                 [great, safe, trip, dont, panic, surrend]   \n",
       "\n",
       "                                                                                                                                           Lemmatization  \n",
       "0           [upgrdcentre, orange, customer, may, claim, free, camera, phone, upgrade, loyalty, call, offer, end, th, july, tc, apply, optout, available]  \n",
       "1                                      [loan, purpose, £, £, homeowner, tenant, welcome, previously, refused, still, help, call, free, text, back, help]  \n",
       "2                             [congrats, nokia, video, camera, phone, call, call, cost, ppm, ave, call, min, vary, mobile, close, post, bcm, ldn, wcnxx]  \n",
       "3                                                            [urgent, mobile, number, awarded, £, prize, guaranteed, call, land, line, claim, valid, hr]  \n",
       "4                                                          [someone, contacted, dating, service, entered, phone, fancy, find, call, landline, poboxntfp]  \n",
       "..                                                                                                                                                   ...  \n",
       "120  [wonder, world, th, th, ur, style, th, ur, smile, th, ur, personality, rd, ur, nature, nd, ur, sm, st, ur, lovely, friendship, good, morning, dear]  \n",
       "121                                                                                                        [try, something, dear, read, something, exam]  \n",
       "122                                                       [sun, ah, thk, mayb, dun, anythin, thk, book, e, lesson, e, pilate, orchard, mrt, u, noe, hor]  \n",
       "123                                            [symptom, u, love, u, like, listening, song, u, get, stopped, u, see, name, beloved, u, wont, get, angry]  \n",
       "124                                                                                                          [great, safe, trip, dont, panic, surrender]  \n",
       "\n",
       "[125 rows x 9 columns]"
      ]
     },
     "execution_count": 22,
     "metadata": {},
     "output_type": "execute_result"
    }
   ],
   "source": [
    "import pandas as pd\n",
    "import string\n",
    "import nltk\n",
    "import re\n",
    "#d:\\Users\\AziaMafia\\Documents\\PythonDev\\piscine\\jimmy.inthalangsy\\nlp\n",
    "#C:\\Users\\jimmy.inthalangsy\\Documents\\nlp\\SMS_test.csv\n",
    "df = pd.read_csv( 'SMS_test.csv' , encoding='unicode_escape' )\n",
    "df.head()\n",
    "\n",
    "\n",
    "data = {\n",
    "\"S. No.\" : df[\"S. No.\"] ,\n",
    "\"Message_body\" : df[\"Message_body\"] ,\n",
    "\"Label\" : df[\"Label\"] ,\n",
    "\"Case Normalization\" : [] ,\n",
    "\"Noise Removal\" : [] , \n",
    "\"Tokenization\" : [] ,\n",
    "\"Stopwords\" : [] ,\n",
    "\"Stemming\"  : [] ,\n",
    "\"Lemmatization\" : []\n",
    "}\n",
    "\n",
    "for  Message   in  df[\"Message_body\"]  :\n",
    "    Message_clean = Message.lower()\n",
    "    data[\"Case Normalization\"].append(Message_clean)\n",
    "    \n",
    "    Message_clean = remove_number(Message_clean)  \n",
    "    Message_clean = clean_link(Message_clean)\n",
    "    Message_clean = remove_ponctuation(Message_clean)\n",
    "    data[\"Noise Removal\"].append(Message_clean)\n",
    "    \n",
    "    Message_clean = nltk.word_tokenize(Message_clean)\n",
    "    data[\"Tokenization\"].append(Message_clean)\n",
    "    \n",
    "    Message_clean_stopword = remove_stopwords_from_list(Message_clean)\n",
    "    data[\"Stopwords\"].append(Message_clean)\n",
    "     \n",
    "    Message_clean = stem_words_from_list(Message_clean_stopword)\n",
    "    data[\"Stemming\"].append(Message_clean)\n",
    "        \n",
    "    Message_clean = lema_words_from_list(Message_clean_stopword)\n",
    "    data[\"Lemmatization\"].append(Message_clean)\n",
    "\n",
    "df2 = pd.DataFrame(data)\n",
    "pd.set_option('display.max_colwidth', None)\n",
    "df2.head(len(df2))"
   ]
  },
  {
   "cell_type": "code",
   "execution_count": null,
   "id": "84b260b4-066e-4e93-8c7b-da3d2c94fb00",
   "metadata": {},
   "outputs": [],
   "source": []
  }
 ],
 "metadata": {
  "kernelspec": {
   "display_name": "Python 3 (ipykernel)",
   "language": "python",
   "name": "python3"
  },
  "language_info": {
   "codemirror_mode": {
    "name": "ipython",
    "version": 3
   },
   "file_extension": ".py",
   "mimetype": "text/x-python",
   "name": "python",
   "nbconvert_exporter": "python",
   "pygments_lexer": "ipython3",
   "version": "3.11.7"
  }
 },
 "nbformat": 4,
 "nbformat_minor": 5
}
